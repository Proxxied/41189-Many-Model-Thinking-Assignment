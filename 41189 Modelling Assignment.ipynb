{
 "cells": [
  {
   "cell_type": "markdown",
   "metadata": {
    "toc-hr-collapsed": false
   },
   "source": [
    "# **41189 Modelling Assignment — Team Emergence**\n",
    " \n",
    " ## Topic: Modelling the Growth of New Social Media Platform\n",
    " \n",
    " Group members:\n",
    " \n",
    " - Evan Hunter (13248721)\n",
    " - Benjamin Myint (13905916)\n",
    " - Christopher Wu (13250307)\n",
    " - Varun Devarkonda (13910183)\n",
    " - Alexander Coulson (13930793)\n"
   ]
  },
  {
   "cell_type": "markdown",
   "metadata": {},
   "source": [
    "Focusing on future new social media platforms using tiktok as a reference to current platforms.\n",
    "\n",
    "## Todo:\n",
    "\n",
    "- Everyone: Update own draft sections based on feedback\n",
    "- Evan: Replicator dynamics implementation and 1 proposed solution\n",
    "- Alex: Networks implementation and 1 proposed solution\n",
    "- Ben: Establish base params\n",
    "- Chris: System dynamics and 1 proposed solution\n",
    "- Varun: sensitivity analysis"
   ]
  },
  {
   "cell_type": "markdown",
   "metadata": {
    "toc-hr-collapsed": true
   },
   "source": [
    "# Introduction"
   ]
  },
  {
   "cell_type": "markdown",
   "metadata": {},
   "source": [
    "## State the problem, why it is important/relevant to you and/or more broadly to society"
   ]
  },
  {
   "cell_type": "markdown",
   "metadata": {},
   "source": [
    "Social media platforms are growing at an alarming rate, and with the current global pandemic, most jobs and social interactions have been pushed onto an online environment, leading to a surgical increase in online user activity within the past couple of months. This increase in online activity has without a doubt placed a substantial load on such platforms as these businesses have had to deal with an explosion of user activity within a short period of time, affecting the overall productivity of business and consumer relations. Social media platforms like Tiktok and Instagram both have their fair share of public prevalence, however recently blew up in popularity due to COVID-19 as a means of staying connected with friends and loved-ones to reduce both isolation and boredom. Other applications like Zoom and Microsoft Teams have also gained significance, which has recently caused performance issues dealing with the heavy loads of meetings and varying chat rooms that were created as a result of attempting to be connected. To combat with the performance and productivity issues, it is fundamental to understand and identify key attributes that correlate to this growth through the modelling of system dynamic models, networks, and replicator dynamic models in order to best support said businesses through these tough times of need. "
   ]
  },
  {
   "cell_type": "markdown",
   "metadata": {},
   "source": [
    "Through this movement of supporting the overall expansion of these social media platforms through the three models, businesses can successfully adapt to the fast growing online user activity to develop the appropriate protocols to deal with mass numbers of devices at a certain time in order to not affect the performance and productivity of their customers. System dynamics, networks and replicator dynamic models will further assist in identifying the appropriate actions required in order to rapidly support a global, online ecosystem of major brands to build a community of individuals, to identify strategic feedback loops, and understanding how people react to new, unfamiliar platforms from a realistic and mathematical point of view. By supporting these businesses, it can ensure that such social media platforms stay online and active, which is evermore important during these despite times of need, whereby such physical social interactions remain constricted and limited, and by conducting this investigation, it will without a doubt secure an online webspace for the uncertain future."
   ]
  },
  {
   "cell_type": "markdown",
   "metadata": {
    "toc-hr-collapsed": true
   },
   "source": [
    "# Context, background information, justification"
   ]
  },
  {
   "cell_type": "markdown",
   "metadata": {},
   "source": [
    "## Research and review literature, news, digital media, drivers and how the problem is being addressed by academia, industry, government, etc."
   ]
  },
  {
   "cell_type": "markdown",
   "metadata": {},
   "source": [
    "As part of this report’s investigation against the ongoing effects of the exponential growth of such social media platforms and their techniques to deal with high online traffic is currently being addressed by the industry, academics, and government organisations in order to increase productivity and user efficiency. "
   ]
  },
  {
   "cell_type": "markdown",
   "metadata": {},
   "source": [
    "Within the social media industry, companies such as Microsoft Teams and Zoom have substantially increased in user activity within the recent months, most notably when the world paused its global productivity at the beginning of this year. Zoom in particular, was forced to expand their servers in various countries in order to keep up with the demands of the industry, increasing from 10 million daily meeting participants in December of 2019, to surpassing 300 million daily meeting participants in April of 2020 (Warren, 2020). However by doing so, Zoom also introduced risk factors such as security and privacy concerns related to the platform. The company responded with continuous updates to the application which not only addresses the aforementioned security and privacy issues, but also, according to The Verge, will be releasing version 5.0, which *“includes passwords by default, improved encryption, and a new security icon to control meetings.”* This update is the resulting outcome of the social media platform’s exponential growth, influenced by the increased numbers of taxpayers working from home due to the pandemic."
   ]
  },
  {
   "cell_type": "markdown",
   "metadata": {},
   "source": [
    "In addition, the educational sectors within Australia have primarily moved to online social media platforms in order to continue learning whilst students and teachers are at home. One of the social media giants called Discord, have further made changes to adapt to this undesirable situation that society faces today, which contribute to, not only the growth of Discord as a platform in general, but also creating an educational environment which is essentially a sidetrack to their ‘gaming’ background. *“Discord is upping the amount of people who can simultaneously view a live stream from 10 to 50 as a result of the novel coronavirus pandemic.”* (Porter, 2020). Discord will implement this feature, knowing that it will create performance instabilities and potential latency issues, yet this action directly creates a learning space for academics including schools and universities at a global scale which will undeniably allow Discord as a platform to further grow and essentially take advantage of the ‘learning at home’ situation that students and teachers currently face. "
   ]
  },
  {
   "cell_type": "markdown",
   "metadata": {},
   "source": [
    "Furthermore, the Australian government has recently responded to the global situation of the increase in online activity due to the coronavirus pandemic through an electronic article from eSafetyCommissioner which is apart of the Australian Government’s road to online safety, especially during these times when such social media platforms are growing each day as more people stay home due to lockdown restrictions around the globe. Due to the limiting factor of physical socialisation, such big brand social media platforms like Facebook, Instagram, and TikTok for example, have substantially increased in user activity ever since lockdown season began at the beginning of the year, and the government has released a bold statement with quote, *“Lockdown restrictions are slowing being lifted across Australia, but things have not returned to the old ‘normal’ yet and probably never will - more time online is likely to continue to be part of life.”* The quote follows with six helpful tips with online safety, including managing mental health, socialising online, dealing with cyberbullies, identifying reliable sources, online relationships, and balancing online time. This statement was released in relation to the substantial growth of such social media platforms and overall user activity during the COVID-19 lockdown restrictions, which will undeniably force people to rethink their online actions."
   ]
  },
  {
   "cell_type": "markdown",
   "metadata": {},
   "source": [
    "- eSafetyCommissioner. (2020). Back at school? 6 online safety tips for the ‘new normal’. https://www.esafety.gov.au/key-issues/covid-19/advice-young-people \n",
    "\n",
    "- Porter, J. Discord ups Go Live streaming limit from 10 to 50 people during coronavirus. https://www.theverge.com/2020/3/12/21176323/discord-go-live-streaming-feature-coronavirus-covid-19 \n",
    "\n",
    "- Warren, T. Zoom grows to 300 million meeting participants despite security backlash. https://www.theverge.com/2020/4/23/21232401/zoom-300-million-users-growth-coronavirus-pandemic-security-privacy-concerns-response "
   ]
  },
  {
   "cell_type": "markdown",
   "metadata": {},
   "source": [
    "## Identify the system + stakeholders. For this, you will need to construct a “rich picture” that captures the essential elements."
   ]
  },
  {
   "cell_type": "markdown",
   "metadata": {},
   "source": [
    "Social media platforms are utilised globally between all members of society to build upon social interaction and online engagement towards the growing future. Due to the automation of information technologies and constant improvement of model’s social media platforms have grown exponentially in the past few decades. Social media Perth, (2020) stated that there are roughly 3.81 billion users and consumers of social media around the globe which is roughly half of the entire human population. The drastic growth of such platforms requires processes and key stakeholders in order to maintain and generate growth towards business and the economy. The main social media platforms in todays society is Facebook, YouTube, Instagram etc. Moreover, the stakeholders in any enterprise have interrelated connections and add some sort of input towards the business itself. As illustrated in figure (1.1), the rich picture demonstrates the key stakeholder values and inputs towards the growth of social media platforms."
   ]
  },
  {
   "cell_type": "markdown",
   "metadata": {},
   "source": [
    " - Consumers: Consumers play the role of the most significant and important stakeholder towards social media platforms. Social media platforms are created for the pure purpose of online interaction from anywhere around the world to be used by humans around the globe. Therefore, users and consumers of media would be the primary stakeholder in the rich picture.\n",
    "\n",
    " - Business: Businesses and companies such as Facebook, YouTube and Instagram have large enterprises to manage and maintain success throughout the social media platform. This is also a significant stakeholder as it provides jobs for workers and handles the legal and financial liabilities of an enterprise. \n",
    "\n",
    " - Advertising/ Marketing: This stakeholder Is a sub process of social media platforms. Advertising and marketing throughout social media have generated a lot of revenue towards smaller businesses and companies as many users and consumers seek advertising on social media for goods and services.\n",
    "\n",
    " - Investors: Investors have a financial input towards the social media firms and companies. The stock market allows investors to buy a small percentage of businesses in order to induce profit for both the company and themselves.\n",
    "\n",
    " - Workers: Workers are the fundamental element of any stakeholder matrix. The workers provide the financial management, maintenance of the company itself. \n"
   ]
  },
  {
   "cell_type": "markdown",
   "metadata": {},
   "source": [
    "![rich picture]( https://i.imgur.com/5rgeRpV.png)"
   ]
  },
  {
   "cell_type": "markdown",
   "metadata": {},
   "source": [
    "## Identify current models or prevailing frames that are being used to address the problem"
   ]
  },
  {
   "cell_type": "markdown",
   "metadata": {},
   "source": [
    "The major increase of engagement of social media platforms due to the automation of the future has allowed an opportunity for many models to address certain issues. Network models highlight the intercorrelation between two entities and how information is transferred to establish connections with one another. Social media platforms utilise network models through the online environment to create connections with peers and friends. Furthermore, social media growth can be measured through network models and the main types of network models. For example, small worlds demonstrate the connections and relationships between small groups of peers or community by the utilisation of social media platforms which provide additional support to establish small group chats and relationships. Furthermore, the high user engagement of online software’s and apps have been increased exponentially due to the corona virus pandemic. Therefore, social media platforms must deal with high user engagement to maintain a working information system. Moreover, social media platforms provide a crucial impact towards the marketing and advertising environment as it allows the promotion of products towards the consumers of social media. The replicator dynamic model suggests the adoption of strategy that is most likely to be chosen by the agent. The replicator dynamic model demonstrates the social media platform engagement of new users as most of the population with access to internet adapt the social media strategy."
   ]
  },
  {
   "cell_type": "markdown",
   "metadata": {},
   "source": [
    "## Discuss how prevailing models/frames are preventing the problem from being fully addressed or solved"
   ]
  },
  {
   "cell_type": "markdown",
   "metadata": {},
   "source": [
    "Prevailing models and frames arise from the issue relating to the ongoing backlog of users attempting to gain access to the online recourses and services with such social media businesses. Undeniably, social media platforms have major issues with maintenance and the constant need for website patches/bugs. However, socially due to the pandemic, territorial restrictions to physical gatherings have created an opportunity for social media platforms to engage in solving this issue. Facebook, YouTube, and Instagram all provide entertainment services for those stuck at home due to the restrictions. Big data refers to a high-volume amount of data that can be structured or even unstructured that need to be given meaning. Social media platforms deal with big data daily as there are large amounts of consumers daily. Furthermore, social media platforms provide educational purposes which is a significant benefit towards online schooling due to the corona virus pandemic. Models of social media can be demonstrated through social interaction and online interaction as they have their similarities and differences. Complex systems are related to social interactions and modelling such interactions can be difficult in nature."
   ]
  },
  {
   "cell_type": "markdown",
   "metadata": {
    "toc-hr-collapsed": true
   },
   "source": [
    "# Conceptual Models"
   ]
  },
  {
   "cell_type": "markdown",
   "metadata": {},
   "source": [
    "## Based on your self-study of the supermarket of models, explain the three models that you have chosen to look at the problem"
   ]
  },
  {
   "cell_type": "markdown",
   "metadata": {},
   "source": [
    "### System Dynamics"
   ]
  },
  {
   "cell_type": "markdown",
   "metadata": {},
   "source": [
    "System dynamics are models used to analyse systems with feedback and the dependency of two or more things on each other. Generally, system dynamics are used to model economies, supply chains and production processes as these systems will benefit from the knowledge of negative and positive feedback. Within a systems dynamics model there consists of:\n",
    "\n",
    "1. Sources (adds inputs)\n",
    "2. Sinks (absorb outputs)\n",
    "3. Stocks (keeps track of levels of variables)\n",
    "4. Flows (capture the feedback between stock levels)\n",
    "5. Rates (apply to flow that can be changed over time)\n",
    "6. Constants (apply to flow that can be changed over time)\n",
    "\n",
    "What's different about system dynamics is that it can include both positive and negative feedback in the model. Positive feedbacks occur an increased variable further adds an additional increase in that same variable. On the other hand, although negative feedback slows down trends it is not necessarily unfavourable; they can often produce desirable properties and contribute to the system-level strength through prevention of problems."
   ]
  },
  {
   "cell_type": "markdown",
   "metadata": {},
   "source": [
    "### Networks"
   ]
  },
  {
   "cell_type": "markdown",
   "metadata": {},
   "source": [
    "The network model use nodes and edges to depict people and their connection with others. The network model is vital for analysing human and their interaction with others, giving the user a view of how connections are made, how close these connections are and ultimately how they interact with the flow of information. The network model when used and implemented correctly will make sense of and organise and seemingly random cluster of people by highlighting clusters that form and the actual structured nature of human relationships, giving the analyst ample information to apply to his/her scenario.\n",
    "\n",
    "There are many different network formations though main ones include:\n",
    "- Random- Random network are never truly random as some sort of structure will always form\n",
    "- Small World- Works off the same sort of principles as a clique network (explained later) where one node has a small group/world, then one of those nodes has another small group/world which it is connected to\n",
    "- Preferential Treatment - Uses the idea that you are most likely to connect to nodes which already have connections.\n",
    "\n",
    "(2020)Networks will always develop some sort of function. One sort of function is 6 degrees of seperation idea which explains that every node is at maximum 6 edges away from any other. Another function of models is the clique network. The clique network suggests that every node has a clique/group and a certain number of random groups. Growth starts to appear when different nodes in the cliques or random friends connect to other cliques or random friends and so on, therefore growing the network. \n"
   ]
  },
  {
   "cell_type": "markdown",
   "metadata": {},
   "source": [
    "### Replicator Dynamics"
   ]
  },
  {
   "cell_type": "markdown",
   "metadata": {},
   "source": [
    "Replicator dynamics, used in evolutionary game theory, is a model that looks at the growth rate of agents using a particular strategy. This model is made up of three key components:\n",
    "1.\tAgent Type (Strategy)\n",
    "2.\tPayoff\n",
    "3.\tPopulation Percentage\n",
    "\n",
    "The agent type refers to the different types of strategies implemented, the payoff is how successful a particular agent type (strategy) is and lastly the population percentage is the percentage of agents that follow a specific strategy in the overall population. \n",
    "\n",
    "The model considers two possible growth strategies for the agents, the first being that an agent is more likely to adopt a particular strategy based on the percentage population following that strategy and the second is the agent will adopt a strategy based on the successfulness of that strategy. This is used to balance out the evolutionary choice’s agents make to create a more realistic model. "
   ]
  },
  {
   "cell_type": "markdown",
   "metadata": {},
   "source": [
    "## Explain how each of the three models works (brief) and how it will be applied in your case."
   ]
  },
  {
   "cell_type": "markdown",
   "metadata": {},
   "source": [
    "### System Dynamics"
   ]
  },
  {
   "cell_type": "markdown",
   "metadata": {},
   "source": [
    "A system dynamics model works as a feedback loop to display the general representation for the complex relationships of a system whilst ignoring the finer details. Its abstract models are used for strategic modelling and simulation. Feedback loops are dependencies and In the case of social media growth, advertisement and brand perception would be examples. If a business invests into advertising, its consumers and revenue would increase resulting in more money that the business can spend on advertisements. This is the basic concept of a system dynamics model visualising.\n",
    "\n",
    "For modelling the increase in growth of a new social media platform, system dynamics is especially useful as the online audience and market is a very intricate and complex system. Through system dynamics modelling, we are able to identify the causes of complexity and with the positive and negative feedback, it will assist in producing complexity essentially providing more knowledge on social media platforms and difficulties that may arise. When implementing the system dynamics model, social media platforms will need to record their current amount of users, growth rate of users, profits and advertising spendings beforehand. For a better understanding of the concept I have made a Causal Loop Diagram to display the relationships of each variable:\n",
    "\n",
    "![CasualLoopDiagram]( https://i.imgur.com/oUIA2r1.png) \n",
    "\n",
    "The parts of the social media system dynamics model are:\n",
    "\n",
    "1. Sources: new users\n",
    "2. Sinks: loss of user\n",
    "3. Stocks: number of users \n",
    "4. Flows: Comments\n",
    "5. Rates and Constants: amount of advertisements\n"
   ]
  },
  {
   "cell_type": "markdown",
   "metadata": {},
   "source": [
    "### Networks"
   ]
  },
  {
   "cell_type": "markdown",
   "metadata": {},
   "source": [
    "Network models work through the interconnection of nodes and edges either in a uniform or random fashion.Network models help demonstrate how interconnected people are, how information will travel between them, how close these people are to each other and even how they come to meet or become connected. The nodes in this model will represent the user of our social media platform whilst the edges between them will closely resemble the links and relationships of these users with other new users. These links may be in the form of friendships, families, acquaintances, etc. These links may also be created and held through marketing of our platfom where we connect to new users through advertisement.\n",
    "\n",
    "The growth of our system can be explained and applied using random clique network which in basic terms demonstrates that everyone has a clique (Small group of friends) and random friends, though also neighbours with their own clique and random friends. This models growth is based up making new connections with your friends and random friends cliques which then are connected to other friend cliques and so on. Another model that can be used to demonstrate the growth of our social media platform is the Watts-Strogatz model which utilises a small world network though has very low variability between nodes. "
   ]
  },
  {
   "cell_type": "markdown",
   "metadata": {},
   "source": [
    "### Replicator Dynamics"
   ]
  },
  {
   "cell_type": "markdown",
   "metadata": {},
   "source": [
    "Replicator dynamics uses agent strategies, their payoff/fitness, and their overall percentage population, to model the growth and decline of each strategy. This can be represented mathematically as the following differential equation:\n",
    "![equation]( https://i.imgur.com/VoRjGME.png) \n",
    "*Source: [Replicator Dynamics - Systems Innovation](https://www.youtube.com/watch?v=9li2IetcgXc)*\n",
    "\n",
    "For example, there are four strategies s1, s2, s3 and s4. s1 has a 40% overall population, s2 has 30%, s3 20% and s4 10%. The agents are more likely to adopt strategy s1 as time passes due to it having the highest overall population but this model also takes into the consideration the payoff/fitness of the strategy, so the chance that an agent will adopt the strategy is determined by the population * payoff.\n",
    "\n",
    "This will be useful for modelling how social media platforms grow as it will hopefully provide a realistic portrayal of how users decide to adopt new social media platforms. This can be done by assigning the strategy as either being on or off the platform, the payoff as the value in which each user will get from the platform (e.g. Communication to family/friends, sharing content) and the overall population as the amount of users versus the amount of potential users."
   ]
  },
  {
   "cell_type": "markdown",
   "metadata": {},
   "source": [
    "## Describe any data sources (real or hypothetical) that are needed to construct the three models. Use illustrative drawings and diagrams where possible."
   ]
  },
  {
   "cell_type": "markdown",
   "metadata": {},
   "source": [
    "### System Dynamics"
   ]
  },
  {
   "cell_type": "markdown",
   "metadata": {},
   "source": [
    "For a system dynamics model, both quantitative and qualitative data are needed as the model depends on quantitative data to generate feedback models and qualitative data as an important source of information. Qualitative data is able to support any stage of the modelling process but it is mainly used for identifying the problem and forming the concept of the model. For the key parts of a system dynamics model, sources, sinks, stocks, flows, rates and constants, qualitative data is responsible for all parts but quantitative data will also affect the feedback loops within. In the case of the growth of a social media platform, qualitative data would be the dependencies such as investments into advertisements and the growth of users. The quantitative data on the social media platform would be numbers such as amount of users. To gather qualitative data, a common and effective technique is interviewing stakeholders especially when creating the concept of the model. For the quantitative data it is generally sourced from the existing social media system as they should have access to the number of users on the platform but can also be further collected through methods such as survey and polls. For example, mediakix has created multiple charts that display the growth of tiktok users and downloads against other older social media platforms such as facebook, snapchat and youtube. \n",
    "\n",
    "Mediakix. (2020, September 4). TikTok user growth infographic - Data + charts showing an insane 2020. https://mediakix.com/blog/tik-tok-user-growth-infographic/\n"
   ]
  },
  {
   "cell_type": "markdown",
   "metadata": {},
   "source": [
    "### Networks"
   ]
  },
  {
   "cell_type": "markdown",
   "metadata": {},
   "source": [
    "Networks need two main data sources. These being the number of nodes (users) and how many edges (links) between these nodes. From these two data sources we can derive the clustering coefficient. Futher on when creating a WS Graph we will use these two data sets to as well as our clustering coefficient, average path length and degree per node to find our standard deviation. This data can be gathered from already established social media platforms that are similar to our social media platform, for example tiktok, which should have the same growth pattern as our social media platfrom. For a more detailed example of the data we will need to investigate each user and analyse how many more users that one user can brung onto the platform, therefore highlighting the amount of edges per node on average a well as the degree per node. This data can be collected through surveys and polls of users of similar social media platforms. "
   ]
  },
  {
   "cell_type": "markdown",
   "metadata": {},
   "source": [
    "### Replicator Dynamics"
   ]
  },
  {
   "cell_type": "markdown",
   "metadata": {},
   "source": [
    "Replicator dynamics needs two main data sources to make up the three key components. The first being the payoff/fitness value for each strategy and the second being the overall population breakdown of each strategy. We can assume for this topic there are two strategies, a user is apart of the platform or the user is not apart of the platform. Since the strategies are known, the two other key components still need to be assigned. The payoff/fitness can be viewed as the overall value a user will get from either being on or off the platform. This could be impacted by a variety of needs a user has, such as, being able to communicate with family and friends, the ability to share content or even privacy concerns. The overall population breakdown is also needed for this model to accurately represent the growth over time. This will be a breakdown of what percentage of users are following each strategy (on or off the platform). The overall population would be the potential userbase, as it provides a more accurate representation of the potential customers when compared to the world population since it excludes children without technology, people without access to the internet, etc.\n",
    "\n",
    "These data sources can be sourced via the following:\n",
    "-\tThe payoff data source can be acquired by completing user research into seeing what value users get from social media platforms. \n",
    "-\tThe population breakdown can be provided by the social media platform business as they would most likely have access to the number of users on their platform.\n"
   ]
  },
  {
   "cell_type": "markdown",
   "metadata": {},
   "source": [
    "# Implementation"
   ]
  },
  {
   "cell_type": "markdown",
   "metadata": {},
   "source": [
    "## Describe the mathematical and/or statistical implementation of your three models. This should be done using Python code."
   ]
  },
  {
   "cell_type": "code",
   "execution_count": null,
   "metadata": {},
   "outputs": [],
   "source": []
  },
  {
   "cell_type": "code",
   "execution_count": 1,
   "metadata": {},
   "outputs": [],
   "source": [
    "import networkx as nx\n",
    "import matplotlib.pyplot as plt\n",
    "\n",
    "def barabasi_albert_graph(n, k):\n",
    "\n",
    "    G = nx.empty_graph(k)\n",
    "    targets = list(range(k))\n",
    "    repeated_nodes = []\n",
    "\n",
    "    for source in range(k, n):\n",
    "        G.add_edges_from(zip([source]*k, targets))\n",
    "       \n",
    "        repeated_nodes.extend(targets)\n",
    "        repeated_nodes.extend([source] * k)\n",
    "       \n",
    "        targets = _random_subset(repeated_nodes, k)\n",
    "\n",
    "    return G\n",
    "\n",
    "def _random_subset(repeated_nodes, k):\n",
    "\n",
    "    targets = set()\n",
    "\n",
    "    while len(targets) < k:\n",
    "\n",
    "        x = random.choice(repeated_nodes)\n",
    "        targets.add(x)\n",
    "\n",
    "    return targets\n",
    "\n",
    "G = nx.petersen_graph()\n",
    "plt.subplot(121)\n",
    "\n",
    "nx.draw(G, with_labels=True, font_weight='bold')\n",
    "plt.subplot(122)\n",
    "\n",
    "nx.draw_shell(G, nlist=[range(10, 20), range(10)], with_labels=True, font_weight='bold')\n"
   ]
  },
  {
   "cell_type": "markdown",
   "metadata": {},
   "source": []
  },
  {
   "cell_type": "code",
   "execution_count": 59,
   "metadata": {},
   "outputs": [
    {
     "name": "stdout",
     "output_type": "stream",
     "text": [
      "-0.9777925347587935\n"
     ]
    },
    {
     "data": {
      "text/plain": [
       "<matplotlib.legend.Legend at 0x242f1a42100>"
      ]
     },
     "execution_count": 59,
     "metadata": {},
     "output_type": "execute_result"
    },
    {
     "data": {
      "image/png": "[encoded data removed]",
      "text/plain": [
       "<Figure size 432x288 with 1 Axes>"
      ]
     },
     "metadata": {
      "needs_background": "light"
     },
     "output_type": "display_data"
    }
   ],
   "source": [
    "import matplotlib.pyplot as plt\n",
    "%matplotlib inline\n",
    "\n",
    "# Payoffs\n",
    "same = 0;\n",
    "withPayoff = 1;\n",
    "withoutPayoff =  -1;\n",
    "\n",
    "# Population and Learning Rate\n",
    "withSocialMedia = [0.02]\n",
    "withoutSocialMedia = [1 - withSocialMedia[0]]\n",
    "dt = 0.05\n",
    "\n",
    "for t in range(200):\n",
    "    # fitnesses\n",
    "    fA = withSocialMedia[t] * same + withoutSocialMedia[t] * withPayoff\n",
    "    fB = withSocialMedia[t] * withoutPayoff + withoutSocialMedia[t] * same\n",
    "    f = withSocialMedia[t] * fA + withoutSocialMedia[t] * fB\n",
    "    # differential equations\n",
    "    withSocialMedia.append(xA[t] + (xA[t] * (fA - f)) * dt)\n",
    "    withoutSocialMedia.append(xB[t] + (xB[t] * (fB - f)) * dt)\n",
    "\n",
    "# print(xA[0] * fA + xB[0] * fB)\n",
    "plt.plot(withSocialMedia, 'r', label ='With Social Media')\n",
    "plt.plot(withoutSocialMedia, 'b', label ='Without Social Media')\n",
    "plt.grid()\n",
    "plt.ylim(0, 1)\n",
    "plt.legend(loc='best')"
   ]
  },
  {
   "cell_type": "markdown",
   "metadata": {},
   "source": [
    "# Scenario analysis, sensitivity + uncertainty evaluation "
   ]
  },
  {
   "cell_type": "markdown",
   "metadata": {},
   "source": [
    "## Establish baseline parameter sets and or configuration for output scenarios"
   ]
  },
  {
   "cell_type": "markdown",
   "metadata": {},
   "source": [
    "intro here"
   ]
  },
  {
   "cell_type": "markdown",
   "metadata": {},
   "source": [
    "### System Dynamics\n",
    "\n",
    "#### Scenario 1\n",
    "text"
   ]
  },
  {
   "cell_type": "markdown",
   "metadata": {},
   "source": [
    "### Networks\n",
    "\n",
    "#### Scenario 1\n",
    "For this scenario, it highlights that the nodes represented below only have three differing neighbouring nodes, meaning that each node or rather, a user only has connections with exactly three different nodes. This scenario simulates the fact that when a new social media platform is introduced, it grows at a steady pace which can impact the overall future succession of the platform entirely. Each varying user (degree) has a strong connection to three other individuals within the network, yet for example, degree(0) has a strong connection, and therefore able to communicate with degree(1), degree(4), and degree(5). However, is unable to communicate with other individuals within the network, which can ultimately lead to a slow growth pattern for the social media platform.\n",
    "\n",
    "- degree(0) = 3, average degree of neighbours (1, 4, 5) = 3\n",
    "- degree(1) = 3, average degree of neighbours (0, 2, 6) = 3\n",
    "- degree(2) = 3, average degree of neighbours (1, 3, 7) = 3\n",
    "- degree(3) = 3, average degree of neighbours (2, 4, 8) = 3\n",
    "- degree(4) = 3, average degree of neighbours (0, 3, 9) = 3\n",
    "- degree(5) = 3, average degree of neighbours (0, 7, 8) = 3\n",
    "- degree(6) = 3, average degree of neighbours (1, 8, 9) = 3\n",
    "- degree(7) = 3, average degree of neighbours (2, 5, 9) = 3\n",
    "- degree(8) = 3, average degree of neighbours (3, 5, 6) = 3\n",
    "- degree(9) = 3, average degree of neighbours (4, 6, 7) = 3\n",
    "\n",
    "Average degree of this network is 3.\n",
    "\n",
    "Average degree of the neighbours is 3.\n",
    "\n",
    "![sen2.PNG]( https://i.imgur.com/nuFvXba.png)\n",
    "\n",
    "\n",
    "#### Scenario 2\n",
    "For this scenario, it highlights that the nodes represented below have a minimum neighbouring connection of three, and a maximum connection of five. This scenario in particular simulates the fact that when a new social media platform is introduced, it grows at a rapid pace rather than the previous scenario, impacting the overall future succession of the platform as a whole. The network represents varying attributes of both strong and weak ties between individuals (degrees) in the network, alluding that this scenario allows additional connections between said users. For instance, degree(1) has strong communicative connections between five different individuals, including that of degree(0), degree(2), degree(4), degree(6), and degree(9). This provides additional growth for the social media platform in question, with individual users in the platform able to expand and communicate their ideas with greater than three separate users of the platform, subsequently leading to further interactions and therefore stronger ties present within the network when compared to the first scenario.\n",
    "\n",
    "- degree(0) = 3, average degree of neighbours (1, 4, 5) = 4.33\n",
    "- degree(1) = 5, average degree of neighbours (0, 2, 4, 6, 9) = 3\n",
    "- degree(2) = 3, average degree of neighbours (1, 3, 7) = 3.67\n",
    "- degree(3) = 3, average degree of neighbours (2, 5, 8) = 3.67\n",
    "- degree(4) = 3, average degree of neighbours (0, 1, 5) = 4.33\n",
    "- degree(5) = 5, average degree of neighbours (0, 3, 4, 7, 8) = 3\n",
    "- degree(6) = 3, average degree of neighbours (1, 8, 9) = 3.67\n",
    "- degree(7) = 3, average degree of neighbours (2, 5, 9) = 3.67\n",
    "- degree(8) = 3, average degree of neighbours (3, 5, 6) = 3.67\n",
    "- degree(9) = 3, average degree of neighbours (1, 6, 7) = 3.67\n",
    "\n",
    "Average degree of this network is 3.4.\n",
    "\n",
    "Average degree of the neighbours is 3.67.\n",
    "\n",
    "![sen1.PNG]( https://i.imgur.com/EceEotK.png)\n"
   ]
  },
  {
   "cell_type": "markdown",
   "metadata": {},
   "source": [
    "#### Replicator Dynamics\n",
    "\n",
    "#### Scenario 1\n",
    "text"
   ]
  },
  {
   "cell_type": "markdown",
   "metadata": {},
   "source": [
    "## Perform a basic sensitivity analysis, i.e., identify with parameters are most sensitive/insensitive for the outputs"
   ]
  },
  {
   "cell_type": "code",
   "execution_count": null,
   "metadata": {},
   "outputs": [],
   "source": []
  },
  {
   "cell_type": "code",
   "execution_count": null,
   "metadata": {},
   "outputs": [],
   "source": []
  },
  {
   "cell_type": "code",
   "execution_count": null,
   "metadata": {},
   "outputs": [],
   "source": []
  },
  {
   "cell_type": "markdown",
   "metadata": {},
   "source": [
    "# Proposed solutions"
   ]
  },
  {
   "cell_type": "markdown",
   "metadata": {},
   "source": [
    "## Discuss potential portfolio of solutions based on your previous analysis\n"
   ]
  },
  {
   "cell_type": "code",
   "execution_count": null,
   "metadata": {},
   "outputs": [],
   "source": []
  },
  {
   "cell_type": "code",
   "execution_count": null,
   "metadata": {},
   "outputs": [],
   "source": []
  },
  {
   "cell_type": "code",
   "execution_count": null,
   "metadata": {},
   "outputs": [],
   "source": []
  },
  {
   "cell_type": "markdown",
   "metadata": {},
   "source": [
    "# Reflection on group + individual approach to assignment"
   ]
  },
  {
   "cell_type": "markdown",
   "metadata": {},
   "source": [
    "## Each student should discuss their experiences about working on the project. The document should be no more than 1000 words per group member. It should discuss following key aspects:\n",
    "\n",
    "- Your contribution in the project\n",
    "- Other group members’ contributions\n",
    "- What positives do you take from this project? What did you learn from this project?\n",
    "- What challenges did you face in this project and how you overcame those?\n",
    "- If you are faced with dealing with a real-world problem and need to do some modelling, how would you determine which modelling approach to take. Justify your response."
   ]
  },
  {
   "cell_type": "markdown",
   "metadata": {},
   "source": [
    "### Group member 1 Reflection - Evan Hunter"
   ]
  },
  {
   "cell_type": "markdown",
   "metadata": {},
   "source": [
    "- Conceptual Models - Replicator Dynamics"
   ]
  },
  {
   "cell_type": "markdown",
   "metadata": {},
   "source": [
    "### Group member 2 Reflection - Benjamin Myint"
   ]
  },
  {
   "cell_type": "markdown",
   "metadata": {},
   "source": [
    "test text2"
   ]
  },
  {
   "cell_type": "markdown",
   "metadata": {},
   "source": [
    "### Group member 3 Reflection - Christopher Wu"
   ]
  },
  {
   "cell_type": "code",
   "execution_count": null,
   "metadata": {},
   "outputs": [],
   "source": []
  },
  {
   "cell_type": "markdown",
   "metadata": {},
   "source": [
    "### Group member 4 Reflection - Varun Devarkonda"
   ]
  },
  {
   "cell_type": "code",
   "execution_count": null,
   "metadata": {},
   "outputs": [],
   "source": []
  },
  {
   "cell_type": "markdown",
   "metadata": {},
   "source": [
    "### Group member 5 Reflection - Alexander Coulson"
   ]
  },
  {
   "cell_type": "markdown",
   "metadata": {},
   "source": [
    "My contribution to this assignment includes the conceptual model of networks as well as its implementation via the barabasi albert graph. Furthermore i contributed one of the proposed solutions.\n",
    "\n",
    "This project gave me insight into the running of Github and Jupyter Notebook which was once an unexplored medium for porject management and coordination for me. Githhub and Jupyter Notebook has demonstrated to me how projects can be jointly worked on with minimum error and maximum efficiency for all who are using it, therefore a higher grade of project is completed.\n",
    "\n",
    "Initially the challenges with this project came with my inability to learn understand the connection between Github and Jupyter. This caused mass disruption with the project code in the beginning, though after Evan guided me through the applications it became much clearer and much easier to use.\n",
    "\n",
    "Determening which modelling approach to take would depends mostly on the data and variables on offer from that specific scenario. For example if the scenario presented has the goal of modelling the sales growth of a mobile phone, i would possibly use the network modelling approach. As the data that is needed closely matches the data needed for a network model i.e Number of nodes and edges (People and their relationships)"
   ]
  },
  {
   "cell_type": "code",
   "execution_count": null,
   "metadata": {},
   "outputs": [],
   "source": []
  }
 ],
 "metadata": {
  "kernelspec": {
   "display_name": "Python 3",
   "language": "python",
   "name": "python3"
  },
  "language_info": {
   "codemirror_mode": {
    "name": "ipython",
    "version": 3
   },
   "file_extension": ".py",
   "mimetype": "text/x-python",
   "name": "python",
   "nbconvert_exporter": "python",
   "pygments_lexer": "ipython3",
   "version": "3.8.3"
  },
  "toc-autonumbering": true
 },
 "nbformat": 4,
 "nbformat_minor": 4
}
